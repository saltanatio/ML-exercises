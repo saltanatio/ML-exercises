{
 "cells": [
  {
   "cell_type": "markdown",
   "id": "2bf6f849",
   "metadata": {},
   "source": [
    "# Prediction of median housing price "
   ]
  },
  {
   "cell_type": "markdown",
   "id": "c9470b00",
   "metadata": {},
   "source": [
    "This example includes only data preparation and training with the SVM model. Data exploration was skipped."
   ]
  },
  {
   "cell_type": "code",
   "execution_count": null,
   "id": "d6d0d304",
   "metadata": {},
   "outputs": [],
   "source": [
    "import os\n",
    "import tarfile\n",
    "import urllib\n",
    "import pandas as pd"
   ]
  },
  {
   "cell_type": "code",
   "execution_count": 3,
   "id": "f8172933",
   "metadata": {},
   "outputs": [],
   "source": [
    "housing = pd.read_csv(r'C:\\Users\\saltanat.ospanova\\Dropbox\\AI_book_exercises\\datasets\\housing\\housing.csv')"
   ]
  },
  {
   "cell_type": "code",
   "execution_count": 4,
   "id": "6ee4b7a1",
   "metadata": {},
   "outputs": [
    {
     "data": {
      "text/html": [
       "<div>\n",
       "<style scoped>\n",
       "    .dataframe tbody tr th:only-of-type {\n",
       "        vertical-align: middle;\n",
       "    }\n",
       "\n",
       "    .dataframe tbody tr th {\n",
       "        vertical-align: top;\n",
       "    }\n",
       "\n",
       "    .dataframe thead th {\n",
       "        text-align: right;\n",
       "    }\n",
       "</style>\n",
       "<table border=\"1\" class=\"dataframe\">\n",
       "  <thead>\n",
       "    <tr style=\"text-align: right;\">\n",
       "      <th></th>\n",
       "      <th>longitude</th>\n",
       "      <th>latitude</th>\n",
       "      <th>housing_median_age</th>\n",
       "      <th>total_rooms</th>\n",
       "      <th>total_bedrooms</th>\n",
       "      <th>population</th>\n",
       "      <th>households</th>\n",
       "      <th>median_income</th>\n",
       "      <th>median_house_value</th>\n",
       "      <th>ocean_proximity</th>\n",
       "    </tr>\n",
       "  </thead>\n",
       "  <tbody>\n",
       "    <tr>\n",
       "      <th>0</th>\n",
       "      <td>-122.23</td>\n",
       "      <td>37.88</td>\n",
       "      <td>41.0</td>\n",
       "      <td>880.0</td>\n",
       "      <td>129.0</td>\n",
       "      <td>322.0</td>\n",
       "      <td>126.0</td>\n",
       "      <td>8.3252</td>\n",
       "      <td>452600.0</td>\n",
       "      <td>NEAR BAY</td>\n",
       "    </tr>\n",
       "    <tr>\n",
       "      <th>1</th>\n",
       "      <td>-122.22</td>\n",
       "      <td>37.86</td>\n",
       "      <td>21.0</td>\n",
       "      <td>7099.0</td>\n",
       "      <td>1106.0</td>\n",
       "      <td>2401.0</td>\n",
       "      <td>1138.0</td>\n",
       "      <td>8.3014</td>\n",
       "      <td>358500.0</td>\n",
       "      <td>NEAR BAY</td>\n",
       "    </tr>\n",
       "    <tr>\n",
       "      <th>2</th>\n",
       "      <td>-122.24</td>\n",
       "      <td>37.85</td>\n",
       "      <td>52.0</td>\n",
       "      <td>1467.0</td>\n",
       "      <td>190.0</td>\n",
       "      <td>496.0</td>\n",
       "      <td>177.0</td>\n",
       "      <td>7.2574</td>\n",
       "      <td>352100.0</td>\n",
       "      <td>NEAR BAY</td>\n",
       "    </tr>\n",
       "    <tr>\n",
       "      <th>3</th>\n",
       "      <td>-122.25</td>\n",
       "      <td>37.85</td>\n",
       "      <td>52.0</td>\n",
       "      <td>1274.0</td>\n",
       "      <td>235.0</td>\n",
       "      <td>558.0</td>\n",
       "      <td>219.0</td>\n",
       "      <td>5.6431</td>\n",
       "      <td>341300.0</td>\n",
       "      <td>NEAR BAY</td>\n",
       "    </tr>\n",
       "    <tr>\n",
       "      <th>4</th>\n",
       "      <td>-122.25</td>\n",
       "      <td>37.85</td>\n",
       "      <td>52.0</td>\n",
       "      <td>1627.0</td>\n",
       "      <td>280.0</td>\n",
       "      <td>565.0</td>\n",
       "      <td>259.0</td>\n",
       "      <td>3.8462</td>\n",
       "      <td>342200.0</td>\n",
       "      <td>NEAR BAY</td>\n",
       "    </tr>\n",
       "  </tbody>\n",
       "</table>\n",
       "</div>"
      ],
      "text/plain": [
       "   longitude  latitude  housing_median_age  total_rooms  total_bedrooms  \\\n",
       "0    -122.23     37.88                41.0        880.0           129.0   \n",
       "1    -122.22     37.86                21.0       7099.0          1106.0   \n",
       "2    -122.24     37.85                52.0       1467.0           190.0   \n",
       "3    -122.25     37.85                52.0       1274.0           235.0   \n",
       "4    -122.25     37.85                52.0       1627.0           280.0   \n",
       "\n",
       "   population  households  median_income  median_house_value ocean_proximity  \n",
       "0       322.0       126.0         8.3252            452600.0        NEAR BAY  \n",
       "1      2401.0      1138.0         8.3014            358500.0        NEAR BAY  \n",
       "2       496.0       177.0         7.2574            352100.0        NEAR BAY  \n",
       "3       558.0       219.0         5.6431            341300.0        NEAR BAY  \n",
       "4       565.0       259.0         3.8462            342200.0        NEAR BAY  "
      ]
     },
     "execution_count": 4,
     "metadata": {},
     "output_type": "execute_result"
    }
   ],
   "source": [
    "housing.head()"
   ]
  },
  {
   "cell_type": "code",
   "execution_count": 5,
   "id": "bab49ffc",
   "metadata": {},
   "outputs": [],
   "source": [
    "import numpy as np"
   ]
  },
  {
   "cell_type": "markdown",
   "id": "499c0a41",
   "metadata": {},
   "source": [
    "Median income showed high correlation with median house value. Therefore, median income was divided into categories in order to create stratified sampling. "
   ]
  },
  {
   "cell_type": "code",
   "execution_count": 6,
   "id": "10713d49",
   "metadata": {},
   "outputs": [],
   "source": [
    "housing['income_cat'] = pd.cut(housing['median_income'],\n",
    "                              bins=[0., 1.5, 3.0, 4.5, 6., np.inf],\n",
    "                              labels=[1,2,3,4,5])"
   ]
  },
  {
   "cell_type": "code",
   "execution_count": 7,
   "id": "a96a23db",
   "metadata": {
    "scrolled": true
   },
   "outputs": [
    {
     "name": "stdout",
     "output_type": "stream",
     "text": [
      "Name: sklearn\n",
      "Version: 0.0\n",
      "Summary: A set of python modules for machine learning and data mining\n",
      "Home-page: https://pypi.python.org/pypi/scikit-learn/\n",
      "Author: UNKNOWN\n",
      "Author-email: UNKNOWN\n",
      "License: \n",
      "Location: c:\\users\\saltanat.ospanova\\appdata\\local\\packages\\pythonsoftwarefoundation.python.3.9_qbz5n2kfra8p0\\localcache\\local-packages\\python39\\site-packages\n",
      "Requires: scikit-learn\n",
      "Required-by: \n"
     ]
    }
   ],
   "source": [
    "!pip show sklearn"
   ]
  },
  {
   "cell_type": "code",
   "execution_count": 8,
   "id": "a78a2258",
   "metadata": {},
   "outputs": [],
   "source": [
    "import sys\n",
    "sys.path.append(r'c:\\users\\saltanat.ospanova\\appdata\\local\\packages\\pythonsoftwarefoundation.python.3.9_qbz5n2kfra8p0\\localcache\\local-packages\\python39\\site-packages')"
   ]
  },
  {
   "cell_type": "code",
   "execution_count": 9,
   "id": "6f141870",
   "metadata": {},
   "outputs": [],
   "source": [
    "from sklearn.model_selection import StratifiedShuffleSplit"
   ]
  },
  {
   "cell_type": "code",
   "execution_count": 10,
   "id": "6dd2d1c7",
   "metadata": {},
   "outputs": [],
   "source": [
    "split = StratifiedShuffleSplit(n_splits=1, test_size=0.2, random_state=42)\n",
    "for train_index, test_index in split.split(housing, housing['income_cat']):\n",
    "    strat_train_set = housing.loc[train_index]\n",
    "    strat_test_set = housing.loc[test_index]"
   ]
  },
  {
   "cell_type": "code",
   "execution_count": 11,
   "id": "43c82bf0",
   "metadata": {},
   "outputs": [],
   "source": [
    "for set_ in (strat_train_set, strat_test_set):\n",
    "    set_.drop('income_cat', axis=1, inplace=True)"
   ]
  },
  {
   "cell_type": "code",
   "execution_count": 12,
   "id": "1778639e",
   "metadata": {},
   "outputs": [],
   "source": [
    "housing = strat_train_set.drop('median_house_value', axis=1).copy()\n",
    "housing_labels = strat_train_set['median_house_value'].copy()"
   ]
  },
  {
   "cell_type": "markdown",
   "id": "37e40173",
   "metadata": {},
   "source": [
    "Filling missing values with attribute's median value"
   ]
  },
  {
   "cell_type": "code",
   "execution_count": 13,
   "id": "14a20ce1",
   "metadata": {},
   "outputs": [],
   "source": [
    "from sklearn.impute import SimpleImputer\n",
    "imputer = SimpleImputer(strategy='median')"
   ]
  },
  {
   "cell_type": "code",
   "execution_count": 14,
   "id": "f4f94fb3",
   "metadata": {},
   "outputs": [
    {
     "data": {
      "text/plain": [
       "SimpleImputer(strategy='median')"
      ]
     },
     "execution_count": 14,
     "metadata": {},
     "output_type": "execute_result"
    }
   ],
   "source": [
    "housing_num = housing.drop('ocean_proximity', axis=1)\n",
    "imputer.fit(housing_num)"
   ]
  },
  {
   "cell_type": "code",
   "execution_count": 15,
   "id": "596cc245",
   "metadata": {},
   "outputs": [],
   "source": [
    "X = imputer.transform(housing_num)\n",
    "housing_tr = pd.DataFrame(X, columns=housing_num.columns, index=housing_num.index)"
   ]
  },
  {
   "cell_type": "code",
   "execution_count": 16,
   "id": "47377858",
   "metadata": {
    "scrolled": true
   },
   "outputs": [
    {
     "data": {
      "text/plain": [
       "[array(['<1H OCEAN', 'INLAND', 'ISLAND', 'NEAR BAY', 'NEAR OCEAN'],\n",
       "       dtype=object)]"
      ]
     },
     "execution_count": 16,
     "metadata": {},
     "output_type": "execute_result"
    }
   ],
   "source": [
    "housing_cat = housing[['ocean_proximity']]\n",
    "\n",
    "from sklearn.preprocessing import OneHotEncoder\n",
    "cat_encoder = OneHotEncoder()\n",
    "housing_cat_1hot = cat_encoder.fit_transform(housing_cat)\n",
    "cat_encoder.categories_"
   ]
  },
  {
   "cell_type": "code",
   "execution_count": 17,
   "id": "3315cdcd",
   "metadata": {},
   "outputs": [],
   "source": [
    "from sklearn.base import BaseEstimator, TransformerMixin\n",
    "\n",
    "rooms_ix, bedrooms_ix, population_ix, households_ix = 3, 4, 5, 6\n",
    "\n",
    "class CombinedAttributesAdder(BaseEstimator, TransformerMixin):\n",
    "    def __init__(self, add_bedrooms_per_room = True): \n",
    "        self.add_bedrooms_per_room = add_bedrooms_per_room\n",
    "    def fit(self, X, y=None):\n",
    "        return self \n",
    "    def transform(self, X, y=None):\n",
    "        rooms_per_household = X[:, rooms_ix] / X[:, households_ix]\n",
    "        population_per_household = X[:, population_ix] / X[:, households_ix]\n",
    "        if self.add_bedrooms_per_room:\n",
    "            bedrooms_per_room = X[:, bedrooms_ix] / X[:, rooms_ix]\n",
    "            return np.c_[X, rooms_per_household, population_per_household,\n",
    "            bedrooms_per_room]\n",
    "        else:\n",
    "            return np.c_[X, rooms_per_household, population_per_household]\n"
   ]
  },
  {
   "cell_type": "code",
   "execution_count": 18,
   "id": "5a1bb158",
   "metadata": {},
   "outputs": [],
   "source": [
    "attr_adder = CombinedAttributesAdder(add_bedrooms_per_room=False)\n",
    "housing_extra_attribs = attr_adder.transform(housing.values)"
   ]
  },
  {
   "cell_type": "code",
   "execution_count": 19,
   "id": "e9f58d13",
   "metadata": {},
   "outputs": [],
   "source": [
    "from sklearn.pipeline import Pipeline\n",
    "from sklearn.preprocessing import StandardScaler\n",
    "\n",
    "num_pipeline = Pipeline([\n",
    "    ('imputer', SimpleImputer(strategy='median')),\n",
    "    ('attribs_adder', CombinedAttributesAdder()),\n",
    "    ('std_scaler', StandardScaler()),\n",
    "])\n",
    "housing_num_tr = num_pipeline.fit_transform(housing_num)"
   ]
  },
  {
   "cell_type": "code",
   "execution_count": 20,
   "id": "644e2532",
   "metadata": {},
   "outputs": [],
   "source": [
    "from sklearn.compose import ColumnTransformer\n",
    "\n",
    "num_attr = list(housing_num)\n",
    "cat_attr = ['ocean_proximity']\n",
    "\n",
    "full_pipeline = ColumnTransformer([\n",
    "    ('num_tr', num_pipeline, num_attr),\n",
    "    ('cat_tr', OneHotEncoder(), cat_attr),\n",
    "])\n",
    "\n",
    "housing_prepared = full_pipeline.fit_transform(housing)"
   ]
  },
  {
   "cell_type": "markdown",
   "id": "acd1afa3",
   "metadata": {},
   "source": [
    "### Example of using Support Vector Machine regressor with GridSearchCV and RandomizedSearchCV."
   ]
  },
  {
   "cell_type": "code",
   "execution_count": 21,
   "id": "378a374c",
   "metadata": {},
   "outputs": [],
   "source": [
    "from sklearn.svm import SVR"
   ]
  },
  {
   "cell_type": "code",
   "execution_count": 22,
   "id": "18dcef51",
   "metadata": {},
   "outputs": [],
   "source": [
    "from sklearn.model_selection import cross_val_score"
   ]
  },
  {
   "cell_type": "code",
   "execution_count": 23,
   "id": "802e60d3",
   "metadata": {},
   "outputs": [],
   "source": [
    "from sklearn.model_selection import GridSearchCV\n",
    "\n",
    "param_grid = [\n",
    "    {'kernel': ['linear'], 'C': [1, 50, 150, 500, 1001]},\n",
    "    {'kernel': ['rbf'], 'C':[1, 10, 150, 500, 1001, 10000],\n",
    "    'gamma': [0.01, 0.05, 0.1, 0.5, 1.0, 5.0]}\n",
    "]\n",
    "\n",
    "svr_reg = SVR()\n",
    "\n",
    "grid = GridSearchCV(estimator=svr_reg, param_grid=param_grid, cv=5,\n",
    "                       scoring='neg_mean_squared_error')"
   ]
  },
  {
   "cell_type": "code",
   "execution_count": 24,
   "id": "d181af75",
   "metadata": {
    "scrolled": true
   },
   "outputs": [
    {
     "data": {
      "text/plain": [
       "{'C': 10000, 'gamma': 0.1, 'kernel': 'rbf'}"
      ]
     },
     "execution_count": 24,
     "metadata": {},
     "output_type": "execute_result"
    }
   ],
   "source": [
    "grid.fit(housing_prepared, housing_labels)\n",
    "grid.best_params_"
   ]
  },
  {
   "cell_type": "code",
   "execution_count": 25,
   "id": "4b5bd85f",
   "metadata": {},
   "outputs": [
    {
     "name": "stdout",
     "output_type": "stream",
     "text": [
      "112571.06378605746 {'C': 1, 'kernel': 'linear'}\n",
      "73258.54197846391 {'C': 50, 'kernel': 'linear'}\n",
      "71130.88663317841 {'C': 150, 'kernel': 'linear'}\n",
      "70491.91398523253 {'C': 500, 'kernel': 'linear'}\n",
      "70396.49208778022 {'C': 1001, 'kernel': 'linear'}\n",
      "118819.34364522224 {'C': 1, 'gamma': 0.01, 'kernel': 'rbf'}\n",
      "118651.46094146419 {'C': 1, 'gamma': 0.05, 'kernel': 'rbf'}\n",
      "118643.66544284696 {'C': 1, 'gamma': 0.1, 'kernel': 'rbf'}\n",
      "118837.96076770847 {'C': 1, 'gamma': 0.5, 'kernel': 'rbf'}\n",
      "118898.89058474178 {'C': 1, 'gamma': 1.0, 'kernel': 'rbf'}\n",
      "118937.209249996 {'C': 1, 'gamma': 5.0, 'kernel': 'rbf'}\n",
      "117862.25734600889 {'C': 10, 'gamma': 0.01, 'kernel': 'rbf'}\n",
      "116264.9204200056 {'C': 10, 'gamma': 0.05, 'kernel': 'rbf'}\n",
      "116181.25173057283 {'C': 10, 'gamma': 0.1, 'kernel': 'rbf'}\n",
      "118024.45519726495 {'C': 10, 'gamma': 0.5, 'kernel': 'rbf'}\n",
      "118591.6498917307 {'C': 10, 'gamma': 1.0, 'kernel': 'rbf'}\n",
      "118913.93622504613 {'C': 10, 'gamma': 5.0, 'kernel': 'rbf'}\n",
      "104979.3331516692 {'C': 150, 'gamma': 0.01, 'kernel': 'rbf'}\n",
      "92420.08753033001 {'C': 150, 'gamma': 0.05, 'kernel': 'rbf'}\n",
      "93298.53344907305 {'C': 150, 'gamma': 0.1, 'kernel': 'rbf'}\n",
      "108282.01306699617 {'C': 150, 'gamma': 0.5, 'kernel': 'rbf'}\n",
      "114334.8237962412 {'C': 150, 'gamma': 1.0, 'kernel': 'rbf'}\n",
      "118631.20496239644 {'C': 150, 'gamma': 5.0, 'kernel': 'rbf'}\n",
      "87356.13419082145 {'C': 500, 'gamma': 0.01, 'kernel': 'rbf'}\n",
      "77021.1934228988 {'C': 500, 'gamma': 0.05, 'kernel': 'rbf'}\n",
      "78713.76510249267 {'C': 500, 'gamma': 0.1, 'kernel': 'rbf'}\n",
      "96772.98816327029 {'C': 500, 'gamma': 0.5, 'kernel': 'rbf'}\n",
      "106996.92380110626 {'C': 500, 'gamma': 1.0, 'kernel': 'rbf'}\n",
      "117954.63100210617 {'C': 500, 'gamma': 5.0, 'kernel': 'rbf'}\n",
      "78397.24902246374 {'C': 1001, 'gamma': 0.01, 'kernel': 'rbf'}\n",
      "70930.44894237802 {'C': 1001, 'gamma': 0.05, 'kernel': 'rbf'}\n",
      "71907.70867322128 {'C': 1001, 'gamma': 0.1, 'kernel': 'rbf'}\n",
      "89258.55214405512 {'C': 1001, 'gamma': 0.5, 'kernel': 'rbf'}\n",
      "100812.45761512949 {'C': 1001, 'gamma': 1.0, 'kernel': 'rbf'}\n",
      "117010.66849583048 {'C': 1001, 'gamma': 5.0, 'kernel': 'rbf'}\n",
      "67761.54955469328 {'C': 10000, 'gamma': 0.01, 'kernel': 'rbf'}\n",
      "62532.26688467572 {'C': 10000, 'gamma': 0.05, 'kernel': 'rbf'}\n",
      "61013.92221614513 {'C': 10000, 'gamma': 0.1, 'kernel': 'rbf'}\n",
      "65087.07874425605 {'C': 10000, 'gamma': 0.5, 'kernel': 'rbf'}\n",
      "75763.01309058942 {'C': 10000, 'gamma': 1.0, 'kernel': 'rbf'}\n",
      "106964.30719676852 {'C': 10000, 'gamma': 5.0, 'kernel': 'rbf'}\n"
     ]
    }
   ],
   "source": [
    "cvres = grid.cv_results_\n",
    "for mean_score, params in zip(cvres['mean_test_score'], cvres['params']):\n",
    "    print(np.sqrt(-mean_score), params)"
   ]
  },
  {
   "cell_type": "code",
   "execution_count": 27,
   "id": "81898130",
   "metadata": {
    "scrolled": true
   },
   "outputs": [
    {
     "data": {
      "text/plain": [
       "RandomizedSearchCV(cv=5, estimator=SVR(),\n",
       "                   param_distributions={'C': <scipy.stats._distn_infrastructure.rv_frozen object at 0x00000192148FD250>,\n",
       "                                        'gamma': <scipy.stats._distn_infrastructure.rv_frozen object at 0x000001921D4634F0>,\n",
       "                                        'kernel': ['linear', 'rbf']},\n",
       "                   scoring='neg_mean_squared_error')"
      ]
     },
     "execution_count": 27,
     "metadata": {},
     "output_type": "execute_result"
    }
   ],
   "source": [
    "from sklearn.model_selection import RandomizedSearchCV\n",
    "from scipy.stats import expon, reciprocal\n",
    "\n",
    "param_dist = {\n",
    "        'kernel': ['linear', 'rbf'],\n",
    "        'C': reciprocal(20, 200000),\n",
    "        'gamma': expon(scale=1.0),\n",
    "    }\n",
    "\n",
    "random_cv = RandomizedSearchCV(estimator=svr_reg, param_distributions=param_dist, \n",
    "                               cv=5, scoring='neg_mean_squared_error')\n",
    "random_cv.fit(housing_prepared, housing_labels)"
   ]
  },
  {
   "cell_type": "code",
   "execution_count": 28,
   "id": "6a2d4e5d",
   "metadata": {},
   "outputs": [
    {
     "data": {
      "text/plain": [
       "{'C': 169561.24535404285, 'gamma': 0.620965976302143, 'kernel': 'rbf'}"
      ]
     },
     "execution_count": 28,
     "metadata": {},
     "output_type": "execute_result"
    }
   ],
   "source": [
    "random_cv.best_params_"
   ]
  },
  {
   "cell_type": "code",
   "execution_count": 30,
   "id": "4a0aadd5",
   "metadata": {},
   "outputs": [
    {
     "data": {
      "text/plain": [
       "56094.94787394007"
      ]
     },
     "execution_count": 30,
     "metadata": {},
     "output_type": "execute_result"
    }
   ],
   "source": [
    "negative_mse = random_cv.best_score_\n",
    "rmse = np.sqrt(-negative_mse)\n",
    "rmse"
   ]
  },
  {
   "cell_type": "markdown",
   "id": "68b9ba3b",
   "metadata": {},
   "source": [
    "### Final pipeline for data preparation and prediction"
   ]
  },
  {
   "cell_type": "code",
   "execution_count": 32,
   "id": "87b80aea",
   "metadata": {},
   "outputs": [],
   "source": [
    "final_pipeline = Pipeline([\n",
    "    ('prep', full_pipeline),\n",
    "    ('pred', random_cv.best_estimator_)\n",
    "])"
   ]
  },
  {
   "cell_type": "code",
   "execution_count": null,
   "id": "6e2d9429",
   "metadata": {},
   "outputs": [],
   "source": []
  },
  {
   "cell_type": "code",
   "execution_count": null,
   "id": "b4a7bd99",
   "metadata": {},
   "outputs": [],
   "source": []
  },
  {
   "cell_type": "code",
   "execution_count": null,
   "id": "35b2df25",
   "metadata": {},
   "outputs": [],
   "source": []
  }
 ],
 "metadata": {
  "kernelspec": {
   "display_name": "Python 3 (ipykernel)",
   "language": "python",
   "name": "python3"
  },
  "language_info": {
   "codemirror_mode": {
    "name": "ipython",
    "version": 3
   },
   "file_extension": ".py",
   "mimetype": "text/x-python",
   "name": "python",
   "nbconvert_exporter": "python",
   "pygments_lexer": "ipython3",
   "version": "3.9.6"
  }
 },
 "nbformat": 4,
 "nbformat_minor": 5
}
